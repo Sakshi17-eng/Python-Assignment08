{
  "nbformat": 4,
  "nbformat_minor": 0,
  "metadata": {
    "colab": {
      "provenance": []
    },
    "kernelspec": {
      "name": "python3",
      "display_name": "Python 3"
    },
    "language_info": {
      "name": "python"
    }
  },
  "cells": [
    {
      "cell_type": "markdown",
      "source": [
        "## **THEORETICAL QUESTIONS**\n"
      ],
      "metadata": {
        "id": "ne0rSFVVcMyq"
      }
    },
    {
      "cell_type": "markdown",
      "source": [
        "###1.What is NumPy, and why is it widely used in Python?\n",
        "\n",
        "NumPy (Numerical Python) is a fundamental library for numerical computation in Python. At its core is the ndarray, a powerful N-dimensional array object. These arrays are much more efficient for numerical operations than standard Python lists due to several reasons:\n",
        "\n",
        "Contiguous Memory Allocation: NumPy arrays are stored in contiguous blocks of memory, allowing for faster access and manipulation.\n",
        "\n",
        "Optimized C Implementations: Many NumPy operations are implemented in highly optimized C or Fortran, making them significantly faster than equivalent Python loops."
      ],
      "metadata": {
        "id": "NErylonsbipe"
      }
    },
    {
      "cell_type": "markdown",
      "source": [
        "###2.How does broadcasting work in NumPy?\n",
        "\n",
        "Broadcasting is a powerful mechanism in NumPy that allows you to perform arithmetic operations on arrays with different shapes without explicitly reshaping them. NumPy automatically \"broadcasts\" the smaller array across the larger array so that they have compatible shapes for element-wise operations."
      ],
      "metadata": {
        "id": "HLBBw5HhcwAR"
      }
    },
    {
      "cell_type": "markdown",
      "source": [
        "###3.What is a Pandas DataFrame?\n",
        "\n",
        "A Pandas DataFrame is a 2-dimensional labeled data structure with columns of potentially different types. Think of it as a spreadsheet or a SQL table. It's one of the most fundamental data structures in Pandas and is incredibly versatile for data analysis. Key characteristics of a DataFrame include:\n",
        "\n",
        "Tabular Data: Data is organized in rows and columns.\n",
        "\n",
        "Labeled Axes: It has labeled rows (index) and labeled columns."
      ],
      "metadata": {
        "id": "fZO5zmW7c9Vo"
      }
    },
    {
      "cell_type": "markdown",
      "source": [
        "###4. Explain the use of the groupby() method in Pandas.\n",
        "\n",
        "The groupby() method in Pandas is a powerful tool for data aggregation and analysis. It allows you to group rows in a DataFrame based on the values in one or more columns. Once the data is grouped, you can perform various aggregate functions (like sum, mean, count, min, max) on each group independently."
      ],
      "metadata": {
        "id": "M0cEbdVIdF6V"
      }
    },
    {
      "cell_type": "markdown",
      "source": [
        "###5.Why is Seaborn preferred for statistical visualizations?\n",
        "\n",
        "Seaborn is a high-level data visualization library built on top of Matplotlib. It provides a more convenient and aesthetically pleasing way to create informative statistical graphics. Here's why it's often preferred:\n",
        "\n",
        "- High-Level Interface: Seaborn offers a concise API with functions designed for common statistical plots (e.g., distribution plots, relationship plots, categorical plots). This reduces the amount of boilerplate code needed compared to Matplotlib.\n",
        "\n",
        "- Attractive Default Styles: Seaborn comes with visually appealing default styles and color palettes, making it easier to create publication-quality plots without extensive customization.\n"
      ],
      "metadata": {
        "id": "XNZcRqohdOC9"
      }
    },
    {
      "cell_type": "markdown",
      "source": [
        "###6.What are the differences between NumPy arrays and Python lists?\n",
        "\n",
        "NumPy arrays and Python lists are both used to store collections of data, but they differ significantly. NumPy arrays are designed for numerical operations, storing elements of the same data type contiguously in memory for efficiency. This allows for fast vectorized operations and broadcasting.   Python lists, on the other hand, are more general-purpose, can hold heterogeneous data, and don't inherently support efficient numerical computation.  While lists are flexible, NumPy arrays offer superior performance and memory management for numerical tasks, making them essential for scientific computing in Python."
      ],
      "metadata": {
        "id": "u5nSdmZ1diY1"
      }
    },
    {
      "cell_type": "markdown",
      "source": [
        "###7.What is a heatmap, and when should it be used?\n",
        "\n",
        "A heatmap is a graphical representation of data where values are encoded by color. Typically, a 2D array of data is visualized, with each cell in the array represented by a colored rectangle. The color intensity and sometimes hue are used to represent the magnitude of the value in that cell.\n",
        "\n",
        "Heatmaps are particularly useful for:\n",
        "\n",
        "- Visualizing Correlation Matrices: Showing the relationships between different variables.\n",
        "- Displaying Missing Data Patterns: Identifying where data is missing in a dataset."
      ],
      "metadata": {
        "id": "IyTPclgBd8q5"
      }
    },
    {
      "cell_type": "markdown",
      "source": [
        "###8. What does the term “vectorized operation” mean in NumPy?\n",
        "\n",
        "A \"vectorized operation\" in NumPy refers to performing an operation on an entire array (or a selection of elements within an array) at once, rather than iterating through each element individually using a loop. This is a key feature of NumPy that contributes to its efficiency."
      ],
      "metadata": {
        "id": "y56emzcGeHcj"
      }
    },
    {
      "cell_type": "markdown",
      "source": [
        "###9. How does Matplotlib differ from Plotly?\n",
        "Matplotlib is a foundational Python library for creating static, basic plots with fine-grained control over every element. 1  It's widely used but often requires more code for complex visualizations. 2    Plotly, in contrast, focuses on generating interactive, web-based plots with features like zooming, panning, and tooltips, offering a more user-friendly and visually appealing experience by default. 3  Plotly excels at creating shareable, dynamic visualizations, while Matplotlib serves as a versatile base for simpler or highly customized static plots. 4"
      ],
      "metadata": {
        "id": "W5TSKAbfePXX"
      }
    },
    {
      "cell_type": "markdown",
      "source": [
        "###10. What is the significance of hierarchical indexing in Pandas?\n",
        "\n",
        "Hierarchical indexing in Pandas allows you to have multiple levels of row or column labels. This is incredibly useful for working with higher-dimensional data in a two-dimensional DataFrame structure. Its significance lies in:\n",
        "\n",
        "- Representing Complex Data: It enables you to represent data with multiple categories or dimensions within a single DataFrame. For example, you could have a DataFrame with sales data indexed by both year and region.\n",
        "- Efficient Data Selection and Manipulation: Hierarchical indices make it easier to select, filter, and aggregate subsets of your data based on different levels of the index."
      ],
      "metadata": {
        "id": "n0z6aswEefAU"
      }
    },
    {
      "cell_type": "markdown",
      "source": [
        "###11. What is the role of Seaborn’s pairplot() function?\n",
        "\n",
        "Seaborn's pairplot() function is a powerful tool for visualizing pairwise relationships between multiple variables in a dataset. It creates a grid of scatter plots where each variable is plotted against every other variable. Additionally, the diagonal of the grid typically shows the univariate distribution of each variable.\n"
      ],
      "metadata": {
        "id": "Sc7q2r9ber-A"
      }
    },
    {
      "cell_type": "markdown",
      "source": [
        "###12. What is the purpose of the describe() function in Pandas?\n",
        "\n",
        "The describe() function in Pandas is used to generate descriptive statistics of a DataFrame or a Series. It provides a summary of the central tendency, dispersion, and shape of the distribution of the data, excluding NaN (Not a Number) values. The output typically includes:\n",
        "\n",
        "- count: The number of non-missing values.\n",
        "- mean: The average value.\n",
        "- std: The standard deviation (a measure of the spread of the data).\n",
        "- min: The minimum value."
      ],
      "metadata": {
        "id": "zjENBV2Me8dN"
      }
    },
    {
      "cell_type": "markdown",
      "source": [
        "###13. Why is handling missing data important in Pandas?\n",
        "\n",
        "Handling missing data is crucial in Pandas\n",
        "for several reasons:\n",
        "\n",
        "- Impact on Analysis: Missing values can lead to incorrect or biased statistical analyses and model building. Many statistical methods and machine learning algorithms cannot handle missing data directly or may produce unreliable results if missing values are ignored.\n",
        "- Data Integrity: Missing data can affect the integrity and representativeness of your dataset, potentially leading to flawed conclusions.\n",
        "- Computational Issues: Some operations might fail or produce unexpected results when encountering missing values"
      ],
      "metadata": {
        "id": "ToOAvedFfIuq"
      }
    },
    {
      "cell_type": "markdown",
      "source": [
        "###14. What are the benefits of using Plotly for data visualization?\n",
        "\n",
        "Plotly offers several key benefits for data visualization:\n",
        "\n",
        "- Interactivity: Plotly's primary strength lies in creating interactive plots that allow users to zoom, pan, hover over data points to see details, and even perform selections. This enhances data exploration and understanding.\n",
        "- Web-Based Output: Plotly generates interactive HTML plots that can be easily embedded in web applications, shared as standalone HTML files, or displayed in Jupyter notebooks.\n",
        "- Aesthetics: Plotly's default styles are generally modern and visually appealing."
      ],
      "metadata": {
        "id": "5oy2kbmKfYek"
      }
    },
    {
      "cell_type": "markdown",
      "source": [
        "###15. How does NumPy handle multidimensional arrays?\n",
        "\n",
        "NumPy's core data structure, the ndarray, is designed to efficiently handle multidimensional arrays. It does this through:\n",
        "\n",
        "- Homogeneous Data Storage: All elements in a NumPy array have the same data type, which allows for efficient storage and vectorized operations.\n",
        "- Shape and Strides: NumPy arrays have a shape attribute, which is a tuple indicating the size of each dimension. They also have a strides attribute, which is a tuple of integers indicating the number of bytes to step in each dimension when traversing the array. This allows NumPy to efficiently access and manipulate elements in memory."
      ],
      "metadata": {
        "id": "8ww7dV8DfjCP"
      }
    },
    {
      "cell_type": "markdown",
      "source": [
        "###16. What is the role of Bokeh in data visualization?\n",
        "\n",
        "Bokeh is an interactive data visualization library for modern web browsers. Its role is to provide a way to create elegant, interactive visualizations that are well-suited for large and streaming datasets. Key aspects of Bokeh's role include:\n",
        "\n",
        "- Interactivity: Bokeh focuses on creating interactive plots with features like zooming, panning, hovering tooltips, and linked brushing.\n",
        "- Web-Based Output: Bokeh generates visualizations as HTML and JavaScript that can be displayed in web browsers or embedded in web applications."
      ],
      "metadata": {
        "id": "EqDMsWSRftW0"
      }
    },
    {
      "cell_type": "markdown",
      "source": [
        "###17. Difference between apply() and map() in Pandas:\n",
        "\n",
        "- map() is used only with Series and is meant for element-wise transformations using a function, dictionary, or series.\n",
        "\n",
        "- apply() works with both Series and DataFrames and can apply a function to rows or columns.\n",
        "\n",
        "- map() is simpler and more limited, ideal for modifying single columns.\n",
        "\n",
        "- apply() is more powerful and flexible, especially for complex row/column-wise operations.\n",
        "\n",
        "- apply() can handle lambda functions, custom functions, or even external functions.\n",
        "\n",
        "- map() returns a new Series, while apply() can return Series, DataFrame, or scalar depending on usage"
      ],
      "metadata": {
        "id": "NlIROMxOf3GM"
      }
    },
    {
      "cell_type": "markdown",
      "source": [
        "###18. What are some advanced features of NumPy?\n",
        "\n",
        "- Broadcasting: Enables operations on arrays of different shapes.\n",
        "\n",
        "- Vectorization: Performs operations without explicit loops for speed.\n",
        "\n",
        "- Memory-efficient views and slicing (no data copying).\n",
        "\n",
        "- Structured arrays and recarrays for complex data types.\n",
        "\n",
        "- Linear algebra functions (matrix multiplication, eigenvalues).\n"
      ],
      "metadata": {
        "id": "16s_ltSJgoTm"
      }
    },
    {
      "cell_type": "markdown",
      "source": [
        "###19. How does Pandas simplify time series analysis?\n",
        "\n",
        "Pandas simplifies time series analysis through its powerful DatetimeIndex, which allows users to index data by dates and times, enabling intuitive slicing and filtering. It supports easy conversion of strings to datetime objects using the to_datetime() function, making it convenient to work with raw date data. Pandas also provides built-in methods for resampling data to different time frequencies (like daily to monthly), as well as rolling window calculations such as moving averages. Features like time shifting, time zone handling, and filling in missing dates make Pandas particularly effective for preparing and analyzing time series datasets. These capabilities make it a go-to tool for financial analysis, forecasting, and any other domain involving time-based data"
      ],
      "metadata": {
        "id": "azr5Qc76g9RD"
      }
    },
    {
      "cell_type": "markdown",
      "source": [
        "### 20. What is the role of a pivot table in Pandas?\n",
        "\n",
        "In Pandas, a pivot table is a powerful tool used to summarize and analyze data by transforming it into a more understandable format. It allows users to group data based on one or more keys (columns), and then apply aggregation functions such as sum, mean, or count. This is particularly helpful when dealing with large datasets that need to be condensed or reorganized for reporting or analysis. With the pivot_table() function, users can also manage missing values and perform multi-level indexing to gain deeper insights. Pivot tables are widely used in exploratory data analysis to quickly identify trends, patterns, or outliers in the data."
      ],
      "metadata": {
        "id": "MeUb0BHjhLlI"
      }
    },
    {
      "cell_type": "markdown",
      "source": [
        "###21. Why is NumPy’s array slicing faster than Python’s list slicing?\n",
        "\n",
        "NumPy’s array slicing is faster than Python’s list slicing because NumPy arrays are implemented in C and stored in contiguous blocks of memory, which allows for efficient access and manipulation. When slicing a NumPy array, it typically creates a view rather than a copy, meaning it references the original data without duplicating it, thus saving both time and memory. In contrast, Python lists store references to objects and involve more overhead due to their dynamic and heterogeneous nature. Furthermore, NumPy leverages vectorized operations that operate at a lower level, bypassing the need for explicit loops, which significantly boosts performance."
      ],
      "metadata": {
        "id": "zlzfH33WhQya"
      }
    },
    {
      "cell_type": "markdown",
      "source": [
        "###22. What are some common use cases for Seaborn?\n",
        "Seaborn is a data visualization library built on top of Matplotlib, and it's commonly used for creating attractive and informative statistical graphics. It is especially useful for visualizing distributions of data using histograms, KDE plots, and box plots. Seaborn is also excellent for visualizing relationships between variables using scatter plots with regression lines, which is facilitated through functions like lmplot() and regplot(). Another major use case is in correlation analysis, where heatmaps and pair plots allow users to explore relationships among multiple variables at once."
      ],
      "metadata": {
        "id": "ms-7BZvahU9F"
      }
    },
    {
      "cell_type": "markdown",
      "source": [
        "## **PRACTICAL QUESTIONS**"
      ],
      "metadata": {
        "id": "xHdKtFpIhfSL"
      }
    },
    {
      "cell_type": "markdown",
      "source": [
        "###1. How do you create a 2D NumPy array and calculate the sum of each row?"
      ],
      "metadata": {
        "id": "JiDtNFKHhkY9"
      }
    },
    {
      "cell_type": "code",
      "source": [
        "import numpy as np\n",
        "\n",
        "array_2d = np.array([[1, 2, 3],\n",
        "                     [4, 5, 6],\n",
        "                     [7, 8, 9]])\n",
        "\n",
        "row_sums = np.sum(array_2d, axis=1)\n",
        "\n",
        "print(\"2D Array:\\n\", array_2d)\n",
        "print(\"Sum of each row:\", row_sums)\n"
      ],
      "metadata": {
        "colab": {
          "base_uri": "https://localhost:8080/"
        },
        "id": "CPCC5tRlh_LA",
        "outputId": "74c7f8c7-500b-4ea3-cd0d-13ce9988ba7a"
      },
      "execution_count": 2,
      "outputs": [
        {
          "output_type": "stream",
          "name": "stdout",
          "text": [
            "2D Array:\n",
            " [[1 2 3]\n",
            " [4 5 6]\n",
            " [7 8 9]]\n",
            "Sum of each row: [ 6 15 24]\n"
          ]
        }
      ]
    },
    {
      "cell_type": "markdown",
      "source": [
        "###2. Write a Pandas script to find the mean of a specific column in a DataFrame?"
      ],
      "metadata": {
        "id": "7fo5GTaGiEzG"
      }
    },
    {
      "cell_type": "code",
      "source": [
        "import pandas as pd\n",
        "\n",
        "data = {\n",
        "    'Name': ['riya', 'sakshi', 'akhil'],\n",
        "    'Age': [25, 30, 35],\n",
        "    'Score': [85, 90, 95]\n",
        "}\n",
        "\n",
        "df = pd.DataFrame(data)\n",
        "\n",
        "mean_score = df['Score'].mean()\n",
        "\n",
        "print(\"Mean of the 'Score' column:\", mean_score)\n"
      ],
      "metadata": {
        "colab": {
          "base_uri": "https://localhost:8080/"
        },
        "id": "95uSv9tjiK0q",
        "outputId": "0dce7a0d-ff9e-4e0f-b4e2-64773399bf2c"
      },
      "execution_count": 3,
      "outputs": [
        {
          "output_type": "stream",
          "name": "stdout",
          "text": [
            "Mean of the 'Score' column: 90.0\n"
          ]
        }
      ]
    },
    {
      "cell_type": "markdown",
      "source": [
        "###3. Create a scatter plot using Matplotlib"
      ],
      "metadata": {
        "id": "F7fIU1fXiWpw"
      }
    },
    {
      "cell_type": "code",
      "source": [
        "import matplotlib.pyplot as plt\n",
        "\n",
        "x = [10, 20, 30, 40, 50]\n",
        "y = [2, 4, 5, 7, 11]\n",
        "\n",
        "plt.scatter(x, y, color='blue', marker='o')\n",
        "\n",
        "plt.xlabel('X-axis')\n",
        "plt.ylabel('Y-axis')\n",
        "plt.title('Sample Scatter Plot')\n",
        "\n",
        "plt.show()\n"
      ],
      "metadata": {
        "colab": {
          "base_uri": "https://localhost:8080/",
          "height": 472
        },
        "id": "936wel_wifA7",
        "outputId": "421b0d95-d145-4ffd-bfdd-1b638f86df24"
      },
      "execution_count": 4,
      "outputs": [
        {
          "output_type": "display_data",
          "data": {
            "text/plain": [
              "<Figure size 640x480 with 1 Axes>"
            ],
            "image/png": "[encoded data removed]"
          },
          "metadata": {}
        }
      ]
    },
    {
      "cell_type": "markdown",
      "source": [
        "###4. How do you calculate the correlation matrix using Seaborn and visualize it with a heatmap?"
      ],
      "metadata": {
        "id": "aFIQ--dbil8h"
      }
    },
    {
      "cell_type": "code",
      "source": [
        "import pandas as pd\n",
        "import seaborn as sns\n",
        "import matplotlib.pyplot as plt\n",
        "\n",
        "df = pd.DataFrame({\n",
        "    'Math': [80, 85, 78, 90],\n",
        "    'Science': [88, 92, 79, 94],\n",
        "    'English': [75, 70, 80, 85]\n",
        "})\n",
        "\n",
        "corr_matrix = df.corr()\n",
        "\n",
        "sns.heatmap(corr_matrix, annot=True, cmap='coolwarm')\n",
        "plt.title(\"Correlation Matrix Heatmap\")\n",
        "plt.show()\n"
      ],
      "metadata": {
        "colab": {
          "base_uri": "https://localhost:8080/",
          "height": 452
        },
        "id": "tRlltOvQjIR-",
        "outputId": "d225c161-af1a-490a-abd7-e541d70d20fd"
      },
      "execution_count": 5,
      "outputs": [
        {
          "output_type": "display_data",
          "data": {
            "text/plain": [
              "<Figure size 640x480 with 2 Axes>"
            ],
            "image/png": "[encoded data removed]"
          },
          "metadata": {}
        }
      ]
    },
    {
      "cell_type": "markdown",
      "source": [
        "###5. Generate a bar plot using Plotly?"
      ],
      "metadata": {
        "id": "l-YKtZRbjQWJ"
      }
    },
    {
      "cell_type": "code",
      "source": [
        "import plotly.express as px\n",
        "\n",
        "data = {'Subjects': ['Math', 'Science', 'English'], 'Scores': [80, 90, 70]}\n",
        "df = pd.DataFrame(data)\n",
        "\n",
        "# Bar plot\n",
        "fig = px.bar(df, x='Subjects', y='Scores', title='Student Scores')\n",
        "fig.show()\n"
      ],
      "metadata": {
        "colab": {
          "base_uri": "https://localhost:8080/",
          "height": 542
        },
        "id": "ISx8OyDXjU5i",
        "outputId": "3494e6d4-af35-438e-9a72-212d9826fb29"
      },
      "execution_count": 7,
      "outputs": [
        {
          "output_type": "display_data",
          "data": {
            "text/html": [
              "<html>\n",
              "<head><meta charset=\"utf-8\" /></head>\n",
              "<body>\n",
              "    <div>            <script src=\"https://cdnjs.cloudflare.com/ajax/libs/mathjax/2.7.5/MathJax.js?config=TeX-AMS-MML_SVG\"></script><script type=\"text/javascript\">if (window.MathJax && window.MathJax.Hub && window.MathJax.Hub.Config) {window.MathJax.Hub.Config({SVG: {font: \"STIX-Web\"}});}</script>                <script type=\"text/javascript\">window.PlotlyConfig = {MathJaxConfig: 'local'};</script>\n",
              "        <script charset=\"utf-8\" src=\"https://cdn.plot.ly/plotly-2.35.2.min.js\"></script>                <div id=\"08a6e193-4db1-41c3-9e06-d9b8249ea865\" class=\"plotly-graph-div\" style=\"height:525px; width:100%;\"></div>            <script type=\"text/javascript\">                                    window.PLOTLYENV=window.PLOTLYENV || {};                                    if (document.getElementById(\"08a6e193-4db1-41c3-9e06-d9b8249ea865\")) {                    Plotly.newPlot(                        \"08a6e193-4db1-41c3-9e06-d9b8249ea865\",                        [{\"alignmentgroup\":\"True\",\"hovertemplate\":\"Subjects=%{x}\\u003cbr\\u003eScores=%{y}\\u003cextra\\u003e\\u003c\\u002fextra\\u003e\",\"legendgroup\":\"\",\"marker\":{\"color\":\"#636efa\",\"pattern\":{\"shape\":\"\"}},\"name\":\"\",\"offsetgroup\":\"\",\"orientation\":\"v\",\"showlegend\":false,\"textposition\":\"auto\",\"x\":[\"Math\",\"Science\",\"English\"],\"xaxis\":\"x\",\"y\":[80,90,70],\"yaxis\":\"y\",\"type\":\"bar\"}],                        {\"template\":{\"data\":{\"histogram2dcontour\":[{\"type\":\"histogram2dcontour\",\"colorbar\":{\"outlinewidth\":0,\"ticks\":\"\"},\"colorscale\":[[0.0,\"#0d0887\"],[0.1111111111111111,\"#46039f\"],[0.2222222222222222,\"#7201a8\"],[0.3333333333333333,\"#9c179e\"],[0.4444444444444444,\"#bd3786\"],[0.5555555555555556,\"#d8576b\"],[0.6666666666666666,\"#ed7953\"],[0.7777777777777778,\"#fb9f3a\"],[0.8888888888888888,\"#fdca26\"],[1.0,\"#f0f921\"]]}],\"choropleth\":[{\"type\":\"choropleth\",\"colorbar\":{\"outlinewidth\":0,\"ticks\":\"\"}}],\"histogram2d\":[{\"type\":\"histogram2d\",\"colorbar\":{\"outlinewidth\":0,\"ticks\":\"\"},\"colorscale\":[[0.0,\"#0d0887\"],[0.1111111111111111,\"#46039f\"],[0.2222222222222222,\"#7201a8\"],[0.3333333333333333,\"#9c179e\"],[0.4444444444444444,\"#bd3786\"],[0.5555555555555556,\"#d8576b\"],[0.6666666666666666,\"#ed7953\"],[0.7777777777777778,\"#fb9f3a\"],[0.8888888888888888,\"#fdca26\"],[1.0,\"#f0f921\"]]}],\"heatmap\":[{\"type\":\"heatmap\",\"colorbar\":{\"outlinewidth\":0,\"ticks\":\"\"},\"colorscale\":[[0.0,\"#0d0887\"],[0.1111111111111111,\"#46039f\"],[0.2222222222222222,\"#7201a8\"],[0.3333333333333333,\"#9c179e\"],[0.4444444444444444,\"#bd3786\"],[0.5555555555555556,\"#d8576b\"],[0.6666666666666666,\"#ed7953\"],[0.7777777777777778,\"#fb9f3a\"],[0.8888888888888888,\"#fdca26\"],[1.0,\"#f0f921\"]]}],\"heatmapgl\":[{\"type\":\"heatmapgl\",\"colorbar\":{\"outlinewidth\":0,\"ticks\":\"\"},\"colorscale\":[[0.0,\"#0d0887\"],[0.1111111111111111,\"#46039f\"],[0.2222222222222222,\"#7201a8\"],[0.3333333333333333,\"#9c179e\"],[0.4444444444444444,\"#bd3786\"],[0.5555555555555556,\"#d8576b\"],[0.6666666666666666,\"#ed7953\"],[0.7777777777777778,\"#fb9f3a\"],[0.8888888888888888,\"#fdca26\"],[1.0,\"#f0f921\"]]}],\"contourcarpet\":[{\"type\":\"contourcarpet\",\"colorbar\":{\"outlinewidth\":0,\"ticks\":\"\"}}],\"contour\":[{\"type\":\"contour\",\"colorbar\":{\"outlinewidth\":0,\"ticks\":\"\"},\"colorscale\":[[0.0,\"#0d0887\"],[0.1111111111111111,\"#46039f\"],[0.2222222222222222,\"#7201a8\"],[0.3333333333333333,\"#9c179e\"],[0.4444444444444444,\"#bd3786\"],[0.5555555555555556,\"#d8576b\"],[0.6666666666666666,\"#ed7953\"],[0.7777777777777778,\"#fb9f3a\"],[0.8888888888888888,\"#fdca26\"],[1.0,\"#f0f921\"]]}],\"surface\":[{\"type\":\"surface\",\"colorbar\":{\"outlinewidth\":0,\"ticks\":\"\"},\"colorscale\":[[0.0,\"#0d0887\"],[0.1111111111111111,\"#46039f\"],[0.2222222222222222,\"#7201a8\"],[0.3333333333333333,\"#9c179e\"],[0.4444444444444444,\"#bd3786\"],[0.5555555555555556,\"#d8576b\"],[0.6666666666666666,\"#ed7953\"],[0.7777777777777778,\"#fb9f3a\"],[0.8888888888888888,\"#fdca26\"],[1.0,\"#f0f921\"]]}],\"mesh3d\":[{\"type\":\"mesh3d\",\"colorbar\":{\"outlinewidth\":0,\"ticks\":\"\"}}],\"scatter\":[{\"fillpattern\":{\"fillmode\":\"overlay\",\"size\":10,\"solidity\":0.2},\"type\":\"scatter\"}],\"parcoords\":[{\"type\":\"parcoords\",\"line\":{\"colorbar\":{\"outlinewidth\":0,\"ticks\":\"\"}}}],\"scatterpolargl\":[{\"type\":\"scatterpolargl\",\"marker\":{\"colorbar\":{\"outlinewidth\":0,\"ticks\":\"\"}}}],\"bar\":[{\"error_x\":{\"color\":\"#2a3f5f\"},\"error_y\":{\"color\":\"#2a3f5f\"},\"marker\":{\"line\":{\"color\":\"#E5ECF6\",\"width\":0.5},\"pattern\":{\"fillmode\":\"overlay\",\"size\":10,\"solidity\":0.2}},\"type\":\"bar\"}],\"scattergeo\":[{\"type\":\"scattergeo\",\"marker\":{\"colorbar\":{\"outlinewidth\":0,\"ticks\":\"\"}}}],\"scatterpolar\":[{\"type\":\"scatterpolar\",\"marker\":{\"colorbar\":{\"outlinewidth\":0,\"ticks\":\"\"}}}],\"histogram\":[{\"marker\":{\"pattern\":{\"fillmode\":\"overlay\",\"size\":10,\"solidity\":0.2}},\"type\":\"histogram\"}],\"scattergl\":[{\"type\":\"scattergl\",\"marker\":{\"colorbar\":{\"outlinewidth\":0,\"ticks\":\"\"}}}],\"scatter3d\":[{\"type\":\"scatter3d\",\"line\":{\"colorbar\":{\"outlinewidth\":0,\"ticks\":\"\"}},\"marker\":{\"colorbar\":{\"outlinewidth\":0,\"ticks\":\"\"}}}],\"scattermapbox\":[{\"type\":\"scattermapbox\",\"marker\":{\"colorbar\":{\"outlinewidth\":0,\"ticks\":\"\"}}}],\"scatterternary\":[{\"type\":\"scatterternary\",\"marker\":{\"colorbar\":{\"outlinewidth\":0,\"ticks\":\"\"}}}],\"scattercarpet\":[{\"type\":\"scattercarpet\",\"marker\":{\"colorbar\":{\"outlinewidth\":0,\"ticks\":\"\"}}}],\"carpet\":[{\"aaxis\":{\"endlinecolor\":\"#2a3f5f\",\"gridcolor\":\"white\",\"linecolor\":\"white\",\"minorgridcolor\":\"white\",\"startlinecolor\":\"#2a3f5f\"},\"baxis\":{\"endlinecolor\":\"#2a3f5f\",\"gridcolor\":\"white\",\"linecolor\":\"white\",\"minorgridcolor\":\"white\",\"startlinecolor\":\"#2a3f5f\"},\"type\":\"carpet\"}],\"table\":[{\"cells\":{\"fill\":{\"color\":\"#EBF0F8\"},\"line\":{\"color\":\"white\"}},\"header\":{\"fill\":{\"color\":\"#C8D4E3\"},\"line\":{\"color\":\"white\"}},\"type\":\"table\"}],\"barpolar\":[{\"marker\":{\"line\":{\"color\":\"#E5ECF6\",\"width\":0.5},\"pattern\":{\"fillmode\":\"overlay\",\"size\":10,\"solidity\":0.2}},\"type\":\"barpolar\"}],\"pie\":[{\"automargin\":true,\"type\":\"pie\"}]},\"layout\":{\"autotypenumbers\":\"strict\",\"colorway\":[\"#636efa\",\"#EF553B\",\"#00cc96\",\"#ab63fa\",\"#FFA15A\",\"#19d3f3\",\"#FF6692\",\"#B6E880\",\"#FF97FF\",\"#FECB52\"],\"font\":{\"color\":\"#2a3f5f\"},\"hovermode\":\"closest\",\"hoverlabel\":{\"align\":\"left\"},\"paper_bgcolor\":\"white\",\"plot_bgcolor\":\"#E5ECF6\",\"polar\":{\"bgcolor\":\"#E5ECF6\",\"angularaxis\":{\"gridcolor\":\"white\",\"linecolor\":\"white\",\"ticks\":\"\"},\"radialaxis\":{\"gridcolor\":\"white\",\"linecolor\":\"white\",\"ticks\":\"\"}},\"ternary\":{\"bgcolor\":\"#E5ECF6\",\"aaxis\":{\"gridcolor\":\"white\",\"linecolor\":\"white\",\"ticks\":\"\"},\"baxis\":{\"gridcolor\":\"white\",\"linecolor\":\"white\",\"ticks\":\"\"},\"caxis\":{\"gridcolor\":\"white\",\"linecolor\":\"white\",\"ticks\":\"\"}},\"coloraxis\":{\"colorbar\":{\"outlinewidth\":0,\"ticks\":\"\"}},\"colorscale\":{\"sequential\":[[0.0,\"#0d0887\"],[0.1111111111111111,\"#46039f\"],[0.2222222222222222,\"#7201a8\"],[0.3333333333333333,\"#9c179e\"],[0.4444444444444444,\"#bd3786\"],[0.5555555555555556,\"#d8576b\"],[0.6666666666666666,\"#ed7953\"],[0.7777777777777778,\"#fb9f3a\"],[0.8888888888888888,\"#fdca26\"],[1.0,\"#f0f921\"]],\"sequentialminus\":[[0.0,\"#0d0887\"],[0.1111111111111111,\"#46039f\"],[0.2222222222222222,\"#7201a8\"],[0.3333333333333333,\"#9c179e\"],[0.4444444444444444,\"#bd3786\"],[0.5555555555555556,\"#d8576b\"],[0.6666666666666666,\"#ed7953\"],[0.7777777777777778,\"#fb9f3a\"],[0.8888888888888888,\"#fdca26\"],[1.0,\"#f0f921\"]],\"diverging\":[[0,\"#8e0152\"],[0.1,\"#c51b7d\"],[0.2,\"#de77ae\"],[0.3,\"#f1b6da\"],[0.4,\"#fde0ef\"],[0.5,\"#f7f7f7\"],[0.6,\"#e6f5d0\"],[0.7,\"#b8e186\"],[0.8,\"#7fbc41\"],[0.9,\"#4d9221\"],[1,\"#276419\"]]},\"xaxis\":{\"gridcolor\":\"white\",\"linecolor\":\"white\",\"ticks\":\"\",\"title\":{\"standoff\":15},\"zerolinecolor\":\"white\",\"automargin\":true,\"zerolinewidth\":2},\"yaxis\":{\"gridcolor\":\"white\",\"linecolor\":\"white\",\"ticks\":\"\",\"title\":{\"standoff\":15},\"zerolinecolor\":\"white\",\"automargin\":true,\"zerolinewidth\":2},\"scene\":{\"xaxis\":{\"backgroundcolor\":\"#E5ECF6\",\"gridcolor\":\"white\",\"linecolor\":\"white\",\"showbackground\":true,\"ticks\":\"\",\"zerolinecolor\":\"white\",\"gridwidth\":2},\"yaxis\":{\"backgroundcolor\":\"#E5ECF6\",\"gridcolor\":\"white\",\"linecolor\":\"white\",\"showbackground\":true,\"ticks\":\"\",\"zerolinecolor\":\"white\",\"gridwidth\":2},\"zaxis\":{\"backgroundcolor\":\"#E5ECF6\",\"gridcolor\":\"white\",\"linecolor\":\"white\",\"showbackground\":true,\"ticks\":\"\",\"zerolinecolor\":\"white\",\"gridwidth\":2}},\"shapedefaults\":{\"line\":{\"color\":\"#2a3f5f\"}},\"annotationdefaults\":{\"arrowcolor\":\"#2a3f5f\",\"arrowhead\":0,\"arrowwidth\":1},\"geo\":{\"bgcolor\":\"white\",\"landcolor\":\"#E5ECF6\",\"subunitcolor\":\"white\",\"showland\":true,\"showlakes\":true,\"lakecolor\":\"white\"},\"title\":{\"x\":0.05},\"mapbox\":{\"style\":\"light\"}}},\"xaxis\":{\"anchor\":\"y\",\"domain\":[0.0,1.0],\"title\":{\"text\":\"Subjects\"}},\"yaxis\":{\"anchor\":\"x\",\"domain\":[0.0,1.0],\"title\":{\"text\":\"Scores\"}},\"legend\":{\"tracegroupgap\":0},\"title\":{\"text\":\"Student Scores\"},\"barmode\":\"relative\"},                        {\"responsive\": true}                    ).then(function(){\n",
              "                            \n",
              "var gd = document.getElementById('08a6e193-4db1-41c3-9e06-d9b8249ea865');\n",
              "var x = new MutationObserver(function (mutations, observer) {{\n",
              "        var display = window.getComputedStyle(gd).display;\n",
              "        if (!display || display === 'none') {{\n",
              "            console.log([gd, 'removed!']);\n",
              "            Plotly.purge(gd);\n",
              "            observer.disconnect();\n",
              "        }}\n",
              "}});\n",
              "\n",
              "// Listen for the removal of the full notebook cells\n",
              "var notebookContainer = gd.closest('#notebook-container');\n",
              "if (notebookContainer) {{\n",
              "    x.observe(notebookContainer, {childList: true});\n",
              "}}\n",
              "\n",
              "// Listen for the clearing of the current output cell\n",
              "var outputEl = gd.closest('.output');\n",
              "if (outputEl) {{\n",
              "    x.observe(outputEl, {childList: true});\n",
              "}}\n",
              "\n",
              "                        })                };                            </script>        </div>\n",
              "</body>\n",
              "</html>"
            ]
          },
          "metadata": {}
        }
      ]
    },
    {
      "cell_type": "markdown",
      "source": [
        "###6. Create a DataFrame and add a new column based on an existing column"
      ],
      "metadata": {
        "id": "qz1otWCmjpGW"
      }
    },
    {
      "cell_type": "code",
      "source": [
        "import pandas as pd\n",
        "\n",
        "df = pd.DataFrame({'Name': ['Riya', 'Sakshi', 'Akhil'], 'Marks': [80, 90, 70]})\n",
        "\n",
        "df['Final Marks'] = df['Marks'] + 5\n",
        "\n",
        "print(df)\n"
      ],
      "metadata": {
        "colab": {
          "base_uri": "https://localhost:8080/"
        },
        "id": "0rBXuIJgjv_W",
        "outputId": "3a3251ed-3d94-4586-8e08-452b60252f80"
      },
      "execution_count": 8,
      "outputs": [
        {
          "output_type": "stream",
          "name": "stdout",
          "text": [
            "     Name  Marks  Final Marks\n",
            "0    Riya     80           85\n",
            "1  Sakshi     90           95\n",
            "2   Akhil     70           75\n"
          ]
        }
      ]
    },
    {
      "cell_type": "markdown",
      "source": [
        "###7. Write a program to perform element-wise multiplication of two NumPy arrays"
      ],
      "metadata": {
        "id": "zNRo9Ql0j5ow"
      }
    },
    {
      "cell_type": "code",
      "source": [
        "import numpy as np\n",
        "\n",
        "# Arrays\n",
        "a = np.array([1, 2, 3])\n",
        "b = np.array([4, 5, 6])\n",
        "\n",
        "result = a * b\n",
        "\n",
        "print(\"Result:\", result)\n"
      ],
      "metadata": {
        "colab": {
          "base_uri": "https://localhost:8080/"
        },
        "id": "y0xOqHmJj_vQ",
        "outputId": "83b92475-064a-4a6e-d54d-caa6bb633863"
      },
      "execution_count": 9,
      "outputs": [
        {
          "output_type": "stream",
          "name": "stdout",
          "text": [
            "Result: [ 4 10 18]\n"
          ]
        }
      ]
    },
    {
      "cell_type": "markdown",
      "source": [
        "###8. Create a line plot with multiple lines using Matplotlib"
      ],
      "metadata": {
        "id": "MQySSyo9kFEm"
      }
    },
    {
      "cell_type": "code",
      "source": [
        "import matplotlib.pyplot as plt\n",
        "\n",
        "x = [1, 2, 3, 4]\n",
        "y1 = [10, 20, 25, 30]\n",
        "y2 = [15, 18, 22, 27]\n",
        "\n",
        "# Plot lines\n",
        "plt.plot(x, y1, label='Line 1', color='blue')\n",
        "plt.plot(x, y2, label='Line 2', color='green')\n",
        "\n",
        "plt.xlabel('X-axis')\n",
        "plt.ylabel('Y-axis')\n",
        "plt.title('Multiple Line Plot')\n",
        "plt.legend()\n",
        "plt.show()\n"
      ],
      "metadata": {
        "colab": {
          "base_uri": "https://localhost:8080/",
          "height": 472
        },
        "id": "uSjYdjdTkMJ1",
        "outputId": "a58b849e-3037-4603-daca-a66e47e4b45e"
      },
      "execution_count": 10,
      "outputs": [
        {
          "output_type": "display_data",
          "data": {
            "text/plain": [
              "<Figure size 640x480 with 1 Axes>"
            ],
            "image/png": "[encoded data removed]"
          },
          "metadata": {}
        }
      ]
    },
    {
      "cell_type": "markdown",
      "source": [
        "###9. Generate a Pandas DataFrame and filter rows where a column value is greater than a threshold"
      ],
      "metadata": {
        "id": "NaIfuJJ8kP22"
      }
    },
    {
      "cell_type": "code",
      "source": [
        "import pandas as pd\n",
        "\n",
        "df = pd.DataFrame({'Name': ['A', 'B', 'C'], 'Score': [70, 85, 60]})\n",
        "\n",
        "# Filter rows with Score > 65\n",
        "filtered_df = df[df['Score'] > 65]\n",
        "\n",
        "print(filtered_df)\n"
      ],
      "metadata": {
        "colab": {
          "base_uri": "https://localhost:8080/"
        },
        "id": "nCU5L02JkVP1",
        "outputId": "f5c57afe-6359-45f9-b9fe-359141e8e981"
      },
      "execution_count": 11,
      "outputs": [
        {
          "output_type": "stream",
          "name": "stdout",
          "text": [
            "  Name  Score\n",
            "0    A     70\n",
            "1    B     85\n"
          ]
        }
      ]
    },
    {
      "cell_type": "markdown",
      "source": [
        "###10. Create a histogram using Seaborn to visualize a distribution"
      ],
      "metadata": {
        "id": "gCf90Kdwkbs_"
      }
    },
    {
      "cell_type": "code",
      "source": [
        "import seaborn as sns\n",
        "import matplotlib.pyplot as plt\n",
        "\n",
        "data = [55, 60, 65, 70, 75, 80, 85, 90, 95]\n",
        "\n",
        "sns.histplot(data, bins=5, kde=True)\n",
        "plt.title('Score Distribution')\n",
        "plt.show()\n"
      ],
      "metadata": {
        "colab": {
          "base_uri": "https://localhost:8080/",
          "height": 452
        },
        "id": "5SY2y2bMkhh0",
        "outputId": "195aad2b-ea04-4ddb-c269-32985e1a5cdc"
      },
      "execution_count": 12,
      "outputs": [
        {
          "output_type": "display_data",
          "data": {
            "text/plain": [
              "<Figure size 640x480 with 1 Axes>"
            ],
            "image/png": "[encoded data removed]"
          },
          "metadata": {}
        }
      ]
    },
    {
      "cell_type": "markdown",
      "source": [
        "###11. Perform matrix multiplication using NumPy"
      ],
      "metadata": {
        "id": "HDQKPZK2km2q"
      }
    },
    {
      "cell_type": "code",
      "source": [
        "import numpy as np\n",
        "\n",
        "A = np.array([[1, 2], [3, 4]])\n",
        "B = np.array([[5, 6], [7, 8]])\n",
        "\n",
        "result = np.dot(A, B)\n",
        "\n",
        "print(\"Result:\\n\", result)\n"
      ],
      "metadata": {
        "colab": {
          "base_uri": "https://localhost:8080/"
        },
        "id": "Dc-K0YLlktEK",
        "outputId": "a02b3c89-7742-4b46-c9df-6e4caae8ebb8"
      },
      "execution_count": 13,
      "outputs": [
        {
          "output_type": "stream",
          "name": "stdout",
          "text": [
            "Result:\n",
            " [[19 22]\n",
            " [43 50]]\n"
          ]
        }
      ]
    },
    {
      "cell_type": "markdown",
      "source": [
        "###12. Use Pandas to load a CSV file and display its first 5 rows"
      ],
      "metadata": {
        "id": "KdwTNEq6k0BW"
      }
    },
    {
      "cell_type": "code",
      "source": [
        "import pandas as pd\n",
        "\n",
        "data = {\n",
        "    'Name': ['Alice', 'Bob', 'Charlie', 'David', 'Eva', 'Frank'],\n",
        "    'Age': [23, 25, 22, 24, 29, 28],\n",
        "    'Score': [88, 92, 85, 90, 87, 93]\n",
        "}\n",
        "\n",
        "df = pd.DataFrame(data)\n",
        "\n",
        "df.to_csv('data.csv', index=False)\n",
        "\n",
        "df_loaded = pd.read_csv('data.csv')\n",
        "\n",
        "print(df_loaded.head())\n"
      ],
      "metadata": {
        "colab": {
          "base_uri": "https://localhost:8080/"
        },
        "id": "69ViAVQllghd",
        "outputId": "56a35ec2-120d-473c-d7f6-35cba68db530"
      },
      "execution_count": 18,
      "outputs": [
        {
          "output_type": "stream",
          "name": "stdout",
          "text": [
            "      Name  Age  Score\n",
            "0    Alice   23     88\n",
            "1      Bob   25     92\n",
            "2  Charlie   22     85\n",
            "3    David   24     90\n",
            "4      Eva   29     87\n"
          ]
        }
      ]
    },
    {
      "cell_type": "markdown",
      "source": [
        "###13. Create a 3D scatter plot using Plotly."
      ],
      "metadata": {
        "id": "YlrLs9nClyuh"
      }
    },
    {
      "cell_type": "code",
      "source": [
        "import plotly.express as px\n",
        "import pandas as pd\n",
        "\n",
        "df = pd.DataFrame({\n",
        "    'X': [1, 2, 3, 4],\n",
        "    'Y': [10, 15, 13, 17],\n",
        "    'Z': [5, 6, 7, 8]\n",
        "})\n",
        "\n",
        "fig = px.scatter_3d(df, x='X', y='Y', z='Z', title='3D Scatter Plot')\n",
        "fig.show()\n"
      ],
      "metadata": {
        "colab": {
          "base_uri": "https://localhost:8080/",
          "height": 542
        },
        "id": "tjT1Vp6nl3hj",
        "outputId": "7213714b-704a-44e9-b4d0-91585edcec6e"
      },
      "execution_count": 19,
      "outputs": [
        {
          "output_type": "display_data",
          "data": {
            "text/html": [
              "<html>\n",
              "<head><meta charset=\"utf-8\" /></head>\n",
              "<body>\n",
              "    <div>            <script src=\"https://cdnjs.cloudflare.com/ajax/libs/mathjax/2.7.5/MathJax.js?config=TeX-AMS-MML_SVG\"></script><script type=\"text/javascript\">if (window.MathJax && window.MathJax.Hub && window.MathJax.Hub.Config) {window.MathJax.Hub.Config({SVG: {font: \"STIX-Web\"}});}</script>                <script type=\"text/javascript\">window.PlotlyConfig = {MathJaxConfig: 'local'};</script>\n",
              "        <script charset=\"utf-8\" src=\"https://cdn.plot.ly/plotly-2.35.2.min.js\"></script>                <div id=\"cea78c3a-45b7-4bd9-9594-abece70cd66e\" class=\"plotly-graph-div\" style=\"height:525px; width:100%;\"></div>            <script type=\"text/javascript\">                                    window.PLOTLYENV=window.PLOTLYENV || {};                                    if (document.getElementById(\"cea78c3a-45b7-4bd9-9594-abece70cd66e\")) {                    Plotly.newPlot(                        \"cea78c3a-45b7-4bd9-9594-abece70cd66e\",                        [{\"hovertemplate\":\"X=%{x}\\u003cbr\\u003eY=%{y}\\u003cbr\\u003eZ=%{z}\\u003cextra\\u003e\\u003c\\u002fextra\\u003e\",\"legendgroup\":\"\",\"marker\":{\"color\":\"#636efa\",\"symbol\":\"circle\"},\"mode\":\"markers\",\"name\":\"\",\"scene\":\"scene\",\"showlegend\":false,\"x\":[1,2,3,4],\"y\":[10,15,13,17],\"z\":[5,6,7,8],\"type\":\"scatter3d\"}],                        {\"template\":{\"data\":{\"histogram2dcontour\":[{\"type\":\"histogram2dcontour\",\"colorbar\":{\"outlinewidth\":0,\"ticks\":\"\"},\"colorscale\":[[0.0,\"#0d0887\"],[0.1111111111111111,\"#46039f\"],[0.2222222222222222,\"#7201a8\"],[0.3333333333333333,\"#9c179e\"],[0.4444444444444444,\"#bd3786\"],[0.5555555555555556,\"#d8576b\"],[0.6666666666666666,\"#ed7953\"],[0.7777777777777778,\"#fb9f3a\"],[0.8888888888888888,\"#fdca26\"],[1.0,\"#f0f921\"]]}],\"choropleth\":[{\"type\":\"choropleth\",\"colorbar\":{\"outlinewidth\":0,\"ticks\":\"\"}}],\"histogram2d\":[{\"type\":\"histogram2d\",\"colorbar\":{\"outlinewidth\":0,\"ticks\":\"\"},\"colorscale\":[[0.0,\"#0d0887\"],[0.1111111111111111,\"#46039f\"],[0.2222222222222222,\"#7201a8\"],[0.3333333333333333,\"#9c179e\"],[0.4444444444444444,\"#bd3786\"],[0.5555555555555556,\"#d8576b\"],[0.6666666666666666,\"#ed7953\"],[0.7777777777777778,\"#fb9f3a\"],[0.8888888888888888,\"#fdca26\"],[1.0,\"#f0f921\"]]}],\"heatmap\":[{\"type\":\"heatmap\",\"colorbar\":{\"outlinewidth\":0,\"ticks\":\"\"},\"colorscale\":[[0.0,\"#0d0887\"],[0.1111111111111111,\"#46039f\"],[0.2222222222222222,\"#7201a8\"],[0.3333333333333333,\"#9c179e\"],[0.4444444444444444,\"#bd3786\"],[0.5555555555555556,\"#d8576b\"],[0.6666666666666666,\"#ed7953\"],[0.7777777777777778,\"#fb9f3a\"],[0.8888888888888888,\"#fdca26\"],[1.0,\"#f0f921\"]]}],\"heatmapgl\":[{\"type\":\"heatmapgl\",\"colorbar\":{\"outlinewidth\":0,\"ticks\":\"\"},\"colorscale\":[[0.0,\"#0d0887\"],[0.1111111111111111,\"#46039f\"],[0.2222222222222222,\"#7201a8\"],[0.3333333333333333,\"#9c179e\"],[0.4444444444444444,\"#bd3786\"],[0.5555555555555556,\"#d8576b\"],[0.6666666666666666,\"#ed7953\"],[0.7777777777777778,\"#fb9f3a\"],[0.8888888888888888,\"#fdca26\"],[1.0,\"#f0f921\"]]}],\"contourcarpet\":[{\"type\":\"contourcarpet\",\"colorbar\":{\"outlinewidth\":0,\"ticks\":\"\"}}],\"contour\":[{\"type\":\"contour\",\"colorbar\":{\"outlinewidth\":0,\"ticks\":\"\"},\"colorscale\":[[0.0,\"#0d0887\"],[0.1111111111111111,\"#46039f\"],[0.2222222222222222,\"#7201a8\"],[0.3333333333333333,\"#9c179e\"],[0.4444444444444444,\"#bd3786\"],[0.5555555555555556,\"#d8576b\"],[0.6666666666666666,\"#ed7953\"],[0.7777777777777778,\"#fb9f3a\"],[0.8888888888888888,\"#fdca26\"],[1.0,\"#f0f921\"]]}],\"surface\":[{\"type\":\"surface\",\"colorbar\":{\"outlinewidth\":0,\"ticks\":\"\"},\"colorscale\":[[0.0,\"#0d0887\"],[0.1111111111111111,\"#46039f\"],[0.2222222222222222,\"#7201a8\"],[0.3333333333333333,\"#9c179e\"],[0.4444444444444444,\"#bd3786\"],[0.5555555555555556,\"#d8576b\"],[0.6666666666666666,\"#ed7953\"],[0.7777777777777778,\"#fb9f3a\"],[0.8888888888888888,\"#fdca26\"],[1.0,\"#f0f921\"]]}],\"mesh3d\":[{\"type\":\"mesh3d\",\"colorbar\":{\"outlinewidth\":0,\"ticks\":\"\"}}],\"scatter\":[{\"fillpattern\":{\"fillmode\":\"overlay\",\"size\":10,\"solidity\":0.2},\"type\":\"scatter\"}],\"parcoords\":[{\"type\":\"parcoords\",\"line\":{\"colorbar\":{\"outlinewidth\":0,\"ticks\":\"\"}}}],\"scatterpolargl\":[{\"type\":\"scatterpolargl\",\"marker\":{\"colorbar\":{\"outlinewidth\":0,\"ticks\":\"\"}}}],\"bar\":[{\"error_x\":{\"color\":\"#2a3f5f\"},\"error_y\":{\"color\":\"#2a3f5f\"},\"marker\":{\"line\":{\"color\":\"#E5ECF6\",\"width\":0.5},\"pattern\":{\"fillmode\":\"overlay\",\"size\":10,\"solidity\":0.2}},\"type\":\"bar\"}],\"scattergeo\":[{\"type\":\"scattergeo\",\"marker\":{\"colorbar\":{\"outlinewidth\":0,\"ticks\":\"\"}}}],\"scatterpolar\":[{\"type\":\"scatterpolar\",\"marker\":{\"colorbar\":{\"outlinewidth\":0,\"ticks\":\"\"}}}],\"histogram\":[{\"marker\":{\"pattern\":{\"fillmode\":\"overlay\",\"size\":10,\"solidity\":0.2}},\"type\":\"histogram\"}],\"scattergl\":[{\"type\":\"scattergl\",\"marker\":{\"colorbar\":{\"outlinewidth\":0,\"ticks\":\"\"}}}],\"scatter3d\":[{\"type\":\"scatter3d\",\"line\":{\"colorbar\":{\"outlinewidth\":0,\"ticks\":\"\"}},\"marker\":{\"colorbar\":{\"outlinewidth\":0,\"ticks\":\"\"}}}],\"scattermapbox\":[{\"type\":\"scattermapbox\",\"marker\":{\"colorbar\":{\"outlinewidth\":0,\"ticks\":\"\"}}}],\"scatterternary\":[{\"type\":\"scatterternary\",\"marker\":{\"colorbar\":{\"outlinewidth\":0,\"ticks\":\"\"}}}],\"scattercarpet\":[{\"type\":\"scattercarpet\",\"marker\":{\"colorbar\":{\"outlinewidth\":0,\"ticks\":\"\"}}}],\"carpet\":[{\"aaxis\":{\"endlinecolor\":\"#2a3f5f\",\"gridcolor\":\"white\",\"linecolor\":\"white\",\"minorgridcolor\":\"white\",\"startlinecolor\":\"#2a3f5f\"},\"baxis\":{\"endlinecolor\":\"#2a3f5f\",\"gridcolor\":\"white\",\"linecolor\":\"white\",\"minorgridcolor\":\"white\",\"startlinecolor\":\"#2a3f5f\"},\"type\":\"carpet\"}],\"table\":[{\"cells\":{\"fill\":{\"color\":\"#EBF0F8\"},\"line\":{\"color\":\"white\"}},\"header\":{\"fill\":{\"color\":\"#C8D4E3\"},\"line\":{\"color\":\"white\"}},\"type\":\"table\"}],\"barpolar\":[{\"marker\":{\"line\":{\"color\":\"#E5ECF6\",\"width\":0.5},\"pattern\":{\"fillmode\":\"overlay\",\"size\":10,\"solidity\":0.2}},\"type\":\"barpolar\"}],\"pie\":[{\"automargin\":true,\"type\":\"pie\"}]},\"layout\":{\"autotypenumbers\":\"strict\",\"colorway\":[\"#636efa\",\"#EF553B\",\"#00cc96\",\"#ab63fa\",\"#FFA15A\",\"#19d3f3\",\"#FF6692\",\"#B6E880\",\"#FF97FF\",\"#FECB52\"],\"font\":{\"color\":\"#2a3f5f\"},\"hovermode\":\"closest\",\"hoverlabel\":{\"align\":\"left\"},\"paper_bgcolor\":\"white\",\"plot_bgcolor\":\"#E5ECF6\",\"polar\":{\"bgcolor\":\"#E5ECF6\",\"angularaxis\":{\"gridcolor\":\"white\",\"linecolor\":\"white\",\"ticks\":\"\"},\"radialaxis\":{\"gridcolor\":\"white\",\"linecolor\":\"white\",\"ticks\":\"\"}},\"ternary\":{\"bgcolor\":\"#E5ECF6\",\"aaxis\":{\"gridcolor\":\"white\",\"linecolor\":\"white\",\"ticks\":\"\"},\"baxis\":{\"gridcolor\":\"white\",\"linecolor\":\"white\",\"ticks\":\"\"},\"caxis\":{\"gridcolor\":\"white\",\"linecolor\":\"white\",\"ticks\":\"\"}},\"coloraxis\":{\"colorbar\":{\"outlinewidth\":0,\"ticks\":\"\"}},\"colorscale\":{\"sequential\":[[0.0,\"#0d0887\"],[0.1111111111111111,\"#46039f\"],[0.2222222222222222,\"#7201a8\"],[0.3333333333333333,\"#9c179e\"],[0.4444444444444444,\"#bd3786\"],[0.5555555555555556,\"#d8576b\"],[0.6666666666666666,\"#ed7953\"],[0.7777777777777778,\"#fb9f3a\"],[0.8888888888888888,\"#fdca26\"],[1.0,\"#f0f921\"]],\"sequentialminus\":[[0.0,\"#0d0887\"],[0.1111111111111111,\"#46039f\"],[0.2222222222222222,\"#7201a8\"],[0.3333333333333333,\"#9c179e\"],[0.4444444444444444,\"#bd3786\"],[0.5555555555555556,\"#d8576b\"],[0.6666666666666666,\"#ed7953\"],[0.7777777777777778,\"#fb9f3a\"],[0.8888888888888888,\"#fdca26\"],[1.0,\"#f0f921\"]],\"diverging\":[[0,\"#8e0152\"],[0.1,\"#c51b7d\"],[0.2,\"#de77ae\"],[0.3,\"#f1b6da\"],[0.4,\"#fde0ef\"],[0.5,\"#f7f7f7\"],[0.6,\"#e6f5d0\"],[0.7,\"#b8e186\"],[0.8,\"#7fbc41\"],[0.9,\"#4d9221\"],[1,\"#276419\"]]},\"xaxis\":{\"gridcolor\":\"white\",\"linecolor\":\"white\",\"ticks\":\"\",\"title\":{\"standoff\":15},\"zerolinecolor\":\"white\",\"automargin\":true,\"zerolinewidth\":2},\"yaxis\":{\"gridcolor\":\"white\",\"linecolor\":\"white\",\"ticks\":\"\",\"title\":{\"standoff\":15},\"zerolinecolor\":\"white\",\"automargin\":true,\"zerolinewidth\":2},\"scene\":{\"xaxis\":{\"backgroundcolor\":\"#E5ECF6\",\"gridcolor\":\"white\",\"linecolor\":\"white\",\"showbackground\":true,\"ticks\":\"\",\"zerolinecolor\":\"white\",\"gridwidth\":2},\"yaxis\":{\"backgroundcolor\":\"#E5ECF6\",\"gridcolor\":\"white\",\"linecolor\":\"white\",\"showbackground\":true,\"ticks\":\"\",\"zerolinecolor\":\"white\",\"gridwidth\":2},\"zaxis\":{\"backgroundcolor\":\"#E5ECF6\",\"gridcolor\":\"white\",\"linecolor\":\"white\",\"showbackground\":true,\"ticks\":\"\",\"zerolinecolor\":\"white\",\"gridwidth\":2}},\"shapedefaults\":{\"line\":{\"color\":\"#2a3f5f\"}},\"annotationdefaults\":{\"arrowcolor\":\"#2a3f5f\",\"arrowhead\":0,\"arrowwidth\":1},\"geo\":{\"bgcolor\":\"white\",\"landcolor\":\"#E5ECF6\",\"subunitcolor\":\"white\",\"showland\":true,\"showlakes\":true,\"lakecolor\":\"white\"},\"title\":{\"x\":0.05},\"mapbox\":{\"style\":\"light\"}}},\"scene\":{\"domain\":{\"x\":[0.0,1.0],\"y\":[0.0,1.0]},\"xaxis\":{\"title\":{\"text\":\"X\"}},\"yaxis\":{\"title\":{\"text\":\"Y\"}},\"zaxis\":{\"title\":{\"text\":\"Z\"}}},\"legend\":{\"tracegroupgap\":0},\"title\":{\"text\":\"3D Scatter Plot\"}},                        {\"responsive\": true}                    ).then(function(){\n",
              "                            \n",
              "var gd = document.getElementById('cea78c3a-45b7-4bd9-9594-abece70cd66e');\n",
              "var x = new MutationObserver(function (mutations, observer) {{\n",
              "        var display = window.getComputedStyle(gd).display;\n",
              "        if (!display || display === 'none') {{\n",
              "            console.log([gd, 'removed!']);\n",
              "            Plotly.purge(gd);\n",
              "            observer.disconnect();\n",
              "        }}\n",
              "}});\n",
              "\n",
              "// Listen for the removal of the full notebook cells\n",
              "var notebookContainer = gd.closest('#notebook-container');\n",
              "if (notebookContainer) {{\n",
              "    x.observe(notebookContainer, {childList: true});\n",
              "}}\n",
              "\n",
              "// Listen for the clearing of the current output cell\n",
              "var outputEl = gd.closest('.output');\n",
              "if (outputEl) {{\n",
              "    x.observe(outputEl, {childList: true});\n",
              "}}\n",
              "\n",
              "                        })                };                            </script>        </div>\n",
              "</body>\n",
              "</html>"
            ]
          },
          "metadata": {}
        }
      ]
    }
  ]
}